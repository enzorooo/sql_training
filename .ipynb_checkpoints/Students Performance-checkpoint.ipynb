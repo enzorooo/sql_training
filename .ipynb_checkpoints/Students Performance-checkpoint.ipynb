{
 "cells": [
  {
   "cell_type": "markdown",
   "metadata": {},
   "source": [
    "# STUDENTS PERFORMANCE\n",
    "Analyzing a database on students performance through SQL queries.\n",
    "\n",
    "Database from https://www.kaggle.com/spscientist/students-performance-in-exams"
   ]
  },
  {
   "cell_type": "markdown",
   "metadata": {},
   "source": [
    "## Installing Packages for SQL compatibility"
   ]
  },
  {
   "cell_type": "code",
   "execution_count": 64,
   "metadata": {},
   "outputs": [
    {
     "data": {
      "text/plain": [
       "['Requirement already satisfied: ipython-sql in c:\\\\users\\\\personal\\\\miniconda3\\\\lib\\\\site-packages (0.4.0)',\n",
       " 'Requirement already satisfied: prettytable<1 in c:\\\\users\\\\personal\\\\miniconda3\\\\lib\\\\site-packages (from ipython-sql) (0.7.2)',\n",
       " 'Requirement already satisfied: sqlparse in c:\\\\users\\\\personal\\\\miniconda3\\\\lib\\\\site-packages (from ipython-sql) (0.3.1)',\n",
       " 'Requirement already satisfied: sqlalchemy>=0.6.7 in c:\\\\users\\\\personal\\\\miniconda3\\\\lib\\\\site-packages (from ipython-sql) (1.3.19)',\n",
       " 'Requirement already satisfied: six in c:\\\\users\\\\personal\\\\miniconda3\\\\lib\\\\site-packages (from ipython-sql) (1.15.0)',\n",
       " 'Requirement already satisfied: ipython-genutils>=0.1.0 in c:\\\\users\\\\personal\\\\miniconda3\\\\lib\\\\site-packages (from ipython-sql) (0.2.0)',\n",
       " 'Requirement already satisfied: ipython>=1.0 in c:\\\\users\\\\personal\\\\miniconda3\\\\lib\\\\site-packages (from ipython-sql) (7.18.1)',\n",
       " 'Requirement already satisfied: pickleshare in c:\\\\users\\\\personal\\\\miniconda3\\\\lib\\\\site-packages (from ipython>=1.0->ipython-sql) (0.7.5)',\n",
       " 'Requirement already satisfied: jedi>=0.10 in c:\\\\users\\\\personal\\\\miniconda3\\\\lib\\\\site-packages (from ipython>=1.0->ipython-sql) (0.17.2)',\n",
       " 'Requirement already satisfied: backcall in c:\\\\users\\\\personal\\\\miniconda3\\\\lib\\\\site-packages (from ipython>=1.0->ipython-sql) (0.2.0)',\n",
       " 'Requirement already satisfied: colorama; sys_platform == \"win32\" in c:\\\\users\\\\personal\\\\miniconda3\\\\lib\\\\site-packages (from ipython>=1.0->ipython-sql) (0.4.3)',\n",
       " 'Requirement already satisfied: decorator in c:\\\\users\\\\personal\\\\miniconda3\\\\lib\\\\site-packages (from ipython>=1.0->ipython-sql) (4.4.2)',\n",
       " 'Requirement already satisfied: traitlets>=4.2 in c:\\\\users\\\\personal\\\\miniconda3\\\\lib\\\\site-packages (from ipython>=1.0->ipython-sql) (5.0.5)',\n",
       " 'Requirement already satisfied: prompt-toolkit!=3.0.0,!=3.0.1,<3.1.0,>=2.0.0 in c:\\\\users\\\\personal\\\\miniconda3\\\\lib\\\\site-packages (from ipython>=1.0->ipython-sql) (3.0.8)',\n",
       " 'Requirement already satisfied: pygments in c:\\\\users\\\\personal\\\\miniconda3\\\\lib\\\\site-packages (from ipython>=1.0->ipython-sql) (2.7.1)',\n",
       " 'Requirement already satisfied: setuptools>=18.5 in c:\\\\users\\\\personal\\\\miniconda3\\\\lib\\\\site-packages (from ipython>=1.0->ipython-sql) (50.3.0.post20201006)',\n",
       " 'Requirement already satisfied: parso<0.8.0,>=0.7.0 in c:\\\\users\\\\personal\\\\miniconda3\\\\lib\\\\site-packages (from jedi>=0.10->ipython>=1.0->ipython-sql) (0.7.0)',\n",
       " 'Requirement already satisfied: wcwidth in c:\\\\users\\\\personal\\\\miniconda3\\\\lib\\\\site-packages (from prompt-toolkit!=3.0.0,!=3.0.1,<3.1.0,>=2.0.0->ipython>=1.0->ipython-sql) (0.2.5)']"
      ]
     },
     "execution_count": 64,
     "metadata": {},
     "output_type": "execute_result"
    }
   ],
   "source": [
    "%%!\n",
    "pip install ipython-sql\n",
    "pip install pandas"
   ]
  },
  {
   "cell_type": "markdown",
   "metadata": {},
   "source": [
    "## Importing Libaries"
   ]
  },
  {
   "cell_type": "code",
   "execution_count": 65,
   "metadata": {},
   "outputs": [
    {
     "name": "stdout",
     "output_type": "stream",
     "text": [
      "The sql extension is already loaded. To reload it, use:\n",
      "  %reload_ext sql\n"
     ]
    }
   ],
   "source": [
    "import pandas as pd\n",
    "import sqlite3\n",
    "%load_ext sql\n",
    "%sql sqlite://"
   ]
  },
  {
   "cell_type": "markdown",
   "metadata": {},
   "source": [
    "## Allow SQL Query on Dataframe Using Pandas"
   ]
  },
  {
   "cell_type": "code",
   "execution_count": 66,
   "metadata": {},
   "outputs": [
    {
     "name": "stdout",
     "output_type": "stream",
     "text": [
      " * sqlite://\n",
      "Done.\n",
      " * sqlite://\n"
     ]
    },
    {
     "data": {
      "text/plain": [
       "'Persisted students'"
      ]
     },
     "execution_count": 66,
     "metadata": {},
     "output_type": "execute_result"
    }
   ],
   "source": [
    "# Load tables from CSV files\n",
    "with open('StudentsPerformance.csv') as f: Students = pd.read_csv(f, index_col=0)\n",
    "%sql drop table if exists Students;\n",
    "%sql --persist Students"
   ]
  },
  {
   "cell_type": "markdown",
   "metadata": {},
   "source": [
    "## Show First 5 Rows of the Dataframe"
   ]
  },
  {
   "cell_type": "code",
   "execution_count": 67,
   "metadata": {},
   "outputs": [
    {
     "name": "stdout",
     "output_type": "stream",
     "text": [
      " * sqlite://\n",
      "Done.\n"
     ]
    },
    {
     "data": {
      "text/html": [
       "<table>\n",
       "    <tr>\n",
       "        <th>gender</th>\n",
       "        <th>race</th>\n",
       "        <th>education_level</th>\n",
       "        <th>lunch</th>\n",
       "        <th>test_preparation_course</th>\n",
       "        <th>math_score</th>\n",
       "        <th>reading_score</th>\n",
       "        <th>writing_score</th>\n",
       "    </tr>\n",
       "    <tr>\n",
       "        <td>female</td>\n",
       "        <td>group B</td>\n",
       "        <td>bachelor&#x27;s degree</td>\n",
       "        <td>standard</td>\n",
       "        <td>none</td>\n",
       "        <td>72</td>\n",
       "        <td>72</td>\n",
       "        <td>74</td>\n",
       "    </tr>\n",
       "    <tr>\n",
       "        <td>female</td>\n",
       "        <td>group C</td>\n",
       "        <td>some college</td>\n",
       "        <td>standard</td>\n",
       "        <td>completed</td>\n",
       "        <td>69</td>\n",
       "        <td>90</td>\n",
       "        <td>88</td>\n",
       "    </tr>\n",
       "    <tr>\n",
       "        <td>female</td>\n",
       "        <td>group B</td>\n",
       "        <td>master&#x27;s degree</td>\n",
       "        <td>standard</td>\n",
       "        <td>none</td>\n",
       "        <td>90</td>\n",
       "        <td>95</td>\n",
       "        <td>93</td>\n",
       "    </tr>\n",
       "    <tr>\n",
       "        <td>male</td>\n",
       "        <td>group A</td>\n",
       "        <td>associate&#x27;s degree</td>\n",
       "        <td>free/reduced</td>\n",
       "        <td>none</td>\n",
       "        <td>47</td>\n",
       "        <td>57</td>\n",
       "        <td>44</td>\n",
       "    </tr>\n",
       "    <tr>\n",
       "        <td>male</td>\n",
       "        <td>group C</td>\n",
       "        <td>some college</td>\n",
       "        <td>standard</td>\n",
       "        <td>none</td>\n",
       "        <td>76</td>\n",
       "        <td>78</td>\n",
       "        <td>75</td>\n",
       "    </tr>\n",
       "</table>"
      ],
      "text/plain": [
       "[('female', 'group B', \"bachelor's degree\", 'standard', 'none', 72, 72, 74),\n",
       " ('female', 'group C', 'some college', 'standard', 'completed', 69, 90, 88),\n",
       " ('female', 'group B', \"master's degree\", 'standard', 'none', 90, 95, 93),\n",
       " ('male', 'group A', \"associate's degree\", 'free/reduced', 'none', 47, 57, 44),\n",
       " ('male', 'group C', 'some college', 'standard', 'none', 76, 78, 75)]"
      ]
     },
     "execution_count": 67,
     "metadata": {},
     "output_type": "execute_result"
    }
   ],
   "source": [
    "%%sql\n",
    "SELECT *\n",
    "FROM Students\n",
    "LIMIT 5;"
   ]
  },
  {
   "cell_type": "markdown",
   "metadata": {},
   "source": [
    "## Queries on Databases"
   ]
  },
  {
   "cell_type": "markdown",
   "metadata": {},
   "source": [
    "### Identify the amount of data in the database"
   ]
  },
  {
   "cell_type": "code",
   "execution_count": 68,
   "metadata": {},
   "outputs": [
    {
     "name": "stdout",
     "output_type": "stream",
     "text": [
      " * sqlite://\n",
      "Done.\n"
     ]
    },
    {
     "data": {
      "text/html": [
       "<table>\n",
       "    <tr>\n",
       "        <th>Total Amount of Data</th>\n",
       "    </tr>\n",
       "    <tr>\n",
       "        <td>1000</td>\n",
       "    </tr>\n",
       "</table>"
      ],
      "text/plain": [
       "[(1000,)]"
      ]
     },
     "execution_count": 68,
     "metadata": {},
     "output_type": "execute_result"
    }
   ],
   "source": [
    "%%sql\n",
    "SELECT COUNT(*) as \"Total Amount of Data\"\n",
    "FROM Students;"
   ]
  },
  {
   "cell_type": "markdown",
   "metadata": {},
   "source": [
    "### Categorize the Databases by the different Columns"
   ]
  },
  {
   "cell_type": "markdown",
   "metadata": {},
   "source": [
    "**Gender**"
   ]
  },
  {
   "cell_type": "code",
   "execution_count": 74,
   "metadata": {},
   "outputs": [
    {
     "name": "stdout",
     "output_type": "stream",
     "text": [
      " * sqlite://\n",
      "Done.\n"
     ]
    },
    {
     "data": {
      "text/html": [
       "<table>\n",
       "    <tr>\n",
       "        <th>Gender</th>\n",
       "        <th>Total</th>\n",
       "    </tr>\n",
       "    <tr>\n",
       "        <td>female</td>\n",
       "        <td>518</td>\n",
       "    </tr>\n",
       "    <tr>\n",
       "        <td>male</td>\n",
       "        <td>482</td>\n",
       "    </tr>\n",
       "</table>"
      ],
      "text/plain": [
       "[('female', 518), ('male', 482)]"
      ]
     },
     "execution_count": 74,
     "metadata": {},
     "output_type": "execute_result"
    }
   ],
   "source": [
    "%%sql\n",
    "SELECT gender as Gender, COUNT(gender) as Total\n",
    "FROM Students\n",
    "GROUP BY gender\n",
    "ORDER BY COUNT(gender) desc;"
   ]
  },
  {
   "cell_type": "markdown",
   "metadata": {},
   "source": [
    "**Race/Ethnicity**"
   ]
  },
  {
   "cell_type": "code",
   "execution_count": 75,
   "metadata": {
    "scrolled": true
   },
   "outputs": [
    {
     "name": "stdout",
     "output_type": "stream",
     "text": [
      " * sqlite://\n",
      "Done.\n"
     ]
    },
    {
     "data": {
      "text/html": [
       "<table>\n",
       "    <tr>\n",
       "        <th>Race/Enthnicity</th>\n",
       "        <th>Total</th>\n",
       "    </tr>\n",
       "    <tr>\n",
       "        <td>group C</td>\n",
       "        <td>319</td>\n",
       "    </tr>\n",
       "    <tr>\n",
       "        <td>group D</td>\n",
       "        <td>262</td>\n",
       "    </tr>\n",
       "    <tr>\n",
       "        <td>group B</td>\n",
       "        <td>190</td>\n",
       "    </tr>\n",
       "    <tr>\n",
       "        <td>group E</td>\n",
       "        <td>140</td>\n",
       "    </tr>\n",
       "    <tr>\n",
       "        <td>group A</td>\n",
       "        <td>89</td>\n",
       "    </tr>\n",
       "</table>"
      ],
      "text/plain": [
       "[('group C', 319),\n",
       " ('group D', 262),\n",
       " ('group B', 190),\n",
       " ('group E', 140),\n",
       " ('group A', 89)]"
      ]
     },
     "execution_count": 75,
     "metadata": {},
     "output_type": "execute_result"
    }
   ],
   "source": [
    "%%sql\n",
    "SELECT race as \"Race/Enthnicity\", Count(race) as Total\n",
    "FROM Students\n",
    "GROUP BY race\n",
    "ORDER BY COUNT(race) desc;"
   ]
  },
  {
   "cell_type": "markdown",
   "metadata": {},
   "source": [
    "**Education Level**"
   ]
  },
  {
   "cell_type": "code",
   "execution_count": 76,
   "metadata": {},
   "outputs": [
    {
     "name": "stdout",
     "output_type": "stream",
     "text": [
      " * sqlite://\n",
      "Done.\n"
     ]
    },
    {
     "data": {
      "text/html": [
       "<table>\n",
       "    <tr>\n",
       "        <th>Education level</th>\n",
       "        <th>Total</th>\n",
       "    </tr>\n",
       "    <tr>\n",
       "        <td>some college</td>\n",
       "        <td>226</td>\n",
       "    </tr>\n",
       "    <tr>\n",
       "        <td>associate&#x27;s degree</td>\n",
       "        <td>222</td>\n",
       "    </tr>\n",
       "    <tr>\n",
       "        <td>high school</td>\n",
       "        <td>196</td>\n",
       "    </tr>\n",
       "    <tr>\n",
       "        <td>some high school</td>\n",
       "        <td>179</td>\n",
       "    </tr>\n",
       "    <tr>\n",
       "        <td>bachelor&#x27;s degree</td>\n",
       "        <td>118</td>\n",
       "    </tr>\n",
       "    <tr>\n",
       "        <td>master&#x27;s degree</td>\n",
       "        <td>59</td>\n",
       "    </tr>\n",
       "</table>"
      ],
      "text/plain": [
       "[('some college', 226),\n",
       " (\"associate's degree\", 222),\n",
       " ('high school', 196),\n",
       " ('some high school', 179),\n",
       " (\"bachelor's degree\", 118),\n",
       " (\"master's degree\", 59)]"
      ]
     },
     "execution_count": 76,
     "metadata": {},
     "output_type": "execute_result"
    }
   ],
   "source": [
    "%%sql\n",
    "SELECT education_level as \"Education level\", Count(education_level) as Total\n",
    "FROM Students\n",
    "GROUP BY education_level\n",
    "ORDER BY COUNT(education_level) desc;"
   ]
  },
  {
   "cell_type": "markdown",
   "metadata": {},
   "source": [
    "**Test Preparation Course Status**"
   ]
  },
  {
   "cell_type": "code",
   "execution_count": 77,
   "metadata": {},
   "outputs": [
    {
     "name": "stdout",
     "output_type": "stream",
     "text": [
      " * sqlite://\n",
      "Done.\n"
     ]
    },
    {
     "data": {
      "text/html": [
       "<table>\n",
       "    <tr>\n",
       "        <th>Status of Test Prep. Course</th>\n",
       "        <th>Total</th>\n",
       "    </tr>\n",
       "    <tr>\n",
       "        <td>none</td>\n",
       "        <td>642</td>\n",
       "    </tr>\n",
       "    <tr>\n",
       "        <td>completed</td>\n",
       "        <td>358</td>\n",
       "    </tr>\n",
       "</table>"
      ],
      "text/plain": [
       "[('none', 642), ('completed', 358)]"
      ]
     },
     "execution_count": 77,
     "metadata": {},
     "output_type": "execute_result"
    }
   ],
   "source": [
    "%%sql\n",
    "SELECT test_preparation_course as \"Status of Test Prep. Course\", Count(test_preparation_course) as Total\n",
    "FROM Students\n",
    "GROUP BY test_preparation_course\n",
    "ORDER BY COUNT(test_preparation_course) desc;"
   ]
  },
  {
   "cell_type": "markdown",
   "metadata": {},
   "source": [
    "**Math Score Range**\n",
    "\n",
    "According to the query, students are most often found with the Math Score between 60 - 70."
   ]
  },
  {
   "cell_type": "code",
   "execution_count": 92,
   "metadata": {},
   "outputs": [
    {
     "name": "stdout",
     "output_type": "stream",
     "text": [
      " * sqlite://\n",
      "Done.\n"
     ]
    },
    {
     "data": {
      "text/html": [
       "<table>\n",
       "    <tr>\n",
       "        <th>Math Score Range</th>\n",
       "        <th>Total</th>\n",
       "    </tr>\n",
       "    <tr>\n",
       "        <td>90 - 100</td>\n",
       "        <td>50</td>\n",
       "    </tr>\n",
       "    <tr>\n",
       "        <td>80 - 90</td>\n",
       "        <td>126</td>\n",
       "    </tr>\n",
       "    <tr>\n",
       "        <td>70 - 80</td>\n",
       "        <td>215</td>\n",
       "    </tr>\n",
       "    <tr>\n",
       "        <td>60 - 70</td>\n",
       "        <td>270</td>\n",
       "    </tr>\n",
       "    <tr>\n",
       "        <td>50 - 60</td>\n",
       "        <td>189</td>\n",
       "    </tr>\n",
       "    <tr>\n",
       "        <td>40 - 50</td>\n",
       "        <td>100</td>\n",
       "    </tr>\n",
       "    <tr>\n",
       "        <td>30 - 40</td>\n",
       "        <td>34</td>\n",
       "    </tr>\n",
       "    <tr>\n",
       "        <td>20 - 30</td>\n",
       "        <td>12</td>\n",
       "    </tr>\n",
       "    <tr>\n",
       "        <td>10 - 20</td>\n",
       "        <td>2</td>\n",
       "    </tr>\n",
       "    <tr>\n",
       "        <td>0 - 10</td>\n",
       "        <td>2</td>\n",
       "    </tr>\n",
       "</table>"
      ],
      "text/plain": [
       "[('90 - 100', 50),\n",
       " ('80 - 90', 126),\n",
       " ('70 - 80', 215),\n",
       " ('60 - 70', 270),\n",
       " ('50 - 60', 189),\n",
       " ('40 - 50', 100),\n",
       " ('30 - 40', 34),\n",
       " ('20 - 30', 12),\n",
       " ('10 - 20', 2),\n",
       " ('0 - 10', 2)]"
      ]
     },
     "execution_count": 92,
     "metadata": {},
     "output_type": "execute_result"
    }
   ],
   "source": [
    "%%sql\n",
    "SELECT CASE\n",
    "    WHEN math_score BETWEEN 0 AND 10 THEN '0 - 10'\n",
    "    WHEN math_score BETWEEN 10 AND 20 THEN '10 - 20'\n",
    "    WHEN math_score BETWEEN 20 AND 30 THEN '20 - 30'\n",
    "    WHEN math_score BETWEEN 30 AND 40 THEN '30 - 40'\n",
    "    WHEN math_score BETWEEN 40 AND 50 THEN '40 - 50'\n",
    "    WHEN math_score BETWEEN 50 AND 60 THEN '50 - 60'\n",
    "    WHEN math_score BETWEEN 60 AND 70 THEN '60 - 70'\n",
    "    WHEN math_score BETWEEN 70 AND 80 THEN '70 - 80'\n",
    "    WHEN math_score BETWEEN 80 AND 90 THEN '80 - 90'\n",
    "    WHEN math_score BETWEEN 90 AND 100 THEN '90 - 100'\n",
    "    END [Math Score Range], COUNT(*) AS Total\n",
    "FROM Students\n",
    "GROUP BY [Math Score Range]\n",
    "ORDER BY [Math Score Range] desc;"
   ]
  },
  {
   "cell_type": "code",
   "execution_count": 97,
   "metadata": {},
   "outputs": [
    {
     "name": "stdout",
     "output_type": "stream",
     "text": [
      " * sqlite://\n",
      "Done.\n"
     ]
    },
    {
     "data": {
      "text/html": [
       "<table>\n",
       "    <tr>\n",
       "        <th>Reading Score Range</th>\n",
       "        <th>Total</th>\n",
       "    </tr>\n",
       "    <tr>\n",
       "        <td>90 - 100</td>\n",
       "        <td>62</td>\n",
       "    </tr>\n",
       "    <tr>\n",
       "        <td>80 - 90</td>\n",
       "        <td>173</td>\n",
       "    </tr>\n",
       "    <tr>\n",
       "        <td>70 - 80</td>\n",
       "        <td>252</td>\n",
       "    </tr>\n",
       "    <tr>\n",
       "        <td>60 - 70</td>\n",
       "        <td>238</td>\n",
       "    </tr>\n",
       "    <tr>\n",
       "        <td>50 - 60</td>\n",
       "        <td>178</td>\n",
       "    </tr>\n",
       "    <tr>\n",
       "        <td>40 - 50</td>\n",
       "        <td>70</td>\n",
       "    </tr>\n",
       "    <tr>\n",
       "        <td>30 - 40</td>\n",
       "        <td>19</td>\n",
       "    </tr>\n",
       "    <tr>\n",
       "        <td>20 - 30</td>\n",
       "        <td>7</td>\n",
       "    </tr>\n",
       "    <tr>\n",
       "        <td>10 - 20</td>\n",
       "        <td>1</td>\n",
       "    </tr>\n",
       "</table>"
      ],
      "text/plain": [
       "[('90 - 100', 62),\n",
       " ('80 - 90', 173),\n",
       " ('70 - 80', 252),\n",
       " ('60 - 70', 238),\n",
       " ('50 - 60', 178),\n",
       " ('40 - 50', 70),\n",
       " ('30 - 40', 19),\n",
       " ('20 - 30', 7),\n",
       " ('10 - 20', 1)]"
      ]
     },
     "execution_count": 97,
     "metadata": {},
     "output_type": "execute_result"
    }
   ],
   "source": [
    "%%sql\n",
    "SELECT CASE\n",
    "    WHEN reading_score BETWEEN 0 AND 10 THEN '0 - 10'\n",
    "    WHEN reading_score BETWEEN 11 AND 20 THEN '10 - 20'\n",
    "    WHEN reading_score BETWEEN 21 AND 30 THEN '20 - 30'\n",
    "    WHEN reading_score BETWEEN 31 AND 40 THEN '30 - 40'\n",
    "    WHEN reading_score BETWEEN 41 AND 50 THEN '40 - 50'\n",
    "    WHEN reading_score BETWEEN 51 AND 60 THEN '50 - 60'\n",
    "    WHEN reading_score BETWEEN 61 AND 70 THEN '60 - 70'\n",
    "    WHEN reading_score BETWEEN 71 AND 80 THEN '70 - 80'\n",
    "    WHEN reading_score BETWEEN 81 AND 90 THEN '80 - 90'\n",
    "    WHEN reading_score BETWEEN 91 AND 100 THEN '90 - 100'\n",
    "    END [Reading Score Range], COUNT(*) AS Total\n",
    "FROM Students\n",
    "GROUP BY [Reading Score Range]\n",
    "ORDER BY [Reading Score Range] desc;"
   ]
  },
  {
   "cell_type": "markdown",
   "metadata": {},
   "source": [
    "**Writing Score Range**\n",
    "\n",
    "According to the query, students are most often found with the Writing Score between 60 - 80 (There are 5 students more students found in the range of 70-80 than that of 60-70."
   ]
  },
  {
   "cell_type": "code",
   "execution_count": 91,
   "metadata": {},
   "outputs": [
    {
     "name": "stdout",
     "output_type": "stream",
     "text": [
      " * sqlite://\n",
      "Done.\n"
     ]
    },
    {
     "data": {
      "text/html": [
       "<table>\n",
       "    <tr>\n",
       "        <th>Writing Score Range</th>\n",
       "        <th>Total</th>\n",
       "    </tr>\n",
       "    <tr>\n",
       "        <td>90 - 100</td>\n",
       "        <td>68</td>\n",
       "    </tr>\n",
       "    <tr>\n",
       "        <td>80 - 90</td>\n",
       "        <td>140</td>\n",
       "    </tr>\n",
       "    <tr>\n",
       "        <td>70 - 80</td>\n",
       "        <td>248</td>\n",
       "    </tr>\n",
       "    <tr>\n",
       "        <td>60 - 70</td>\n",
       "        <td>243</td>\n",
       "    </tr>\n",
       "    <tr>\n",
       "        <td>50 - 60</td>\n",
       "        <td>177</td>\n",
       "    </tr>\n",
       "    <tr>\n",
       "        <td>40 - 50</td>\n",
       "        <td>89</td>\n",
       "    </tr>\n",
       "    <tr>\n",
       "        <td>30 - 40</td>\n",
       "        <td>25</td>\n",
       "    </tr>\n",
       "    <tr>\n",
       "        <td>20 - 30</td>\n",
       "        <td>7</td>\n",
       "    </tr>\n",
       "    <tr>\n",
       "        <td>10 - 20</td>\n",
       "        <td>2</td>\n",
       "    </tr>\n",
       "    <tr>\n",
       "        <td>0 - 10</td>\n",
       "        <td>1</td>\n",
       "    </tr>\n",
       "</table>"
      ],
      "text/plain": [
       "[('90 - 100', 68),\n",
       " ('80 - 90', 140),\n",
       " ('70 - 80', 248),\n",
       " ('60 - 70', 243),\n",
       " ('50 - 60', 177),\n",
       " ('40 - 50', 89),\n",
       " ('30 - 40', 25),\n",
       " ('20 - 30', 7),\n",
       " ('10 - 20', 2),\n",
       " ('0 - 10', 1)]"
      ]
     },
     "execution_count": 91,
     "metadata": {},
     "output_type": "execute_result"
    }
   ],
   "source": [
    "%%sql\n",
    "SELECT CASE\n",
    "    WHEN writing_score BETWEEN 0 AND 10 THEN '0 - 10'\n",
    "    WHEN writing_score BETWEEN 10 AND 20 THEN '10 - 20'\n",
    "    WHEN writing_score BETWEEN 20 AND 30 THEN '20 - 30'\n",
    "    WHEN writing_score BETWEEN 30 AND 40 THEN '30 - 40'\n",
    "    WHEN writing_score BETWEEN 40 AND 50 THEN '40 - 50'\n",
    "    WHEN writing_score BETWEEN 50 AND 60 THEN '50 - 60'\n",
    "    WHEN writing_score BETWEEN 60 AND 70 THEN '60 - 70'\n",
    "    WHEN writing_score BETWEEN 70 AND 80 THEN '70 - 80'\n",
    "    WHEN writing_score BETWEEN 80 AND 90 THEN '80 - 90'\n",
    "    WHEN writing_score BETWEEN 90 AND 100 THEN '90 - 100'\n",
    "    END [Writing Score Range], COUNT(*) AS Total\n",
    "FROM Students\n",
    "GROUP BY [Writing Score Range]\n",
    "ORDER BY [Writing Score Range] desc;"
   ]
  },
  {
   "cell_type": "code",
   "execution_count": null,
   "metadata": {},
   "outputs": [],
   "source": []
  }
 ],
 "metadata": {
  "kernelspec": {
   "display_name": "Python 3",
   "language": "python",
   "name": "python3"
  },
  "language_info": {
   "codemirror_mode": {
    "name": "ipython",
    "version": 3
   },
   "file_extension": ".py",
   "mimetype": "text/x-python",
   "name": "python",
   "nbconvert_exporter": "python",
   "pygments_lexer": "ipython3",
   "version": "3.7.9"
  }
 },
 "nbformat": 4,
 "nbformat_minor": 4
}
